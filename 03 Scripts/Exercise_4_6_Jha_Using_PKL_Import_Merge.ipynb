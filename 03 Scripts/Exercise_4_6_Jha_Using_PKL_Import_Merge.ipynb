{
 "cells": [
  {
   "cell_type": "markdown",
   "id": "b31dcad4",
   "metadata": {},
   "source": [
    "## Importing .pkl file"
   ]
  },
  {
   "cell_type": "code",
   "execution_count": 3,
   "id": "551c0311",
   "metadata": {},
   "outputs": [
    {
     "name": "stdout",
     "output_type": "stream",
     "text": [
      "\n",
      "Task 2: Shape of the imported dataframe (orders_products_combined): (32434489, 4)\n",
      "\n",
      "Task 5: Merge flag counts:\n",
      " _merge\n",
      "both          32434212\n",
      "left_only         2029\n",
      "right_only           0\n",
      "Name: count, dtype: int64\n"
     ]
    }
   ],
   "source": [
    "# Import necessary libraries\n",
    "import pandas as pd\n",
    "\n",
    "# Define file paths\n",
    "orders_products_combined_path = \"/Users/ging/Documents/Data Analytics Course/04_2024_Instacart Basket Analysis/02 Data/Prepared Data/orders_products_combined.pkl\"\n",
    "cleaned_products_path = \"/Users/ging/Documents/Data Analytics Course/04_2024_Instacart Basket Analysis/02 Data/Prepared Data/cleaned_products.csv\"\n",
    "\n",
    "# Task 1: Import orders_products_combined dataframe from the pickle file\n",
    "orders_products_combined = pd.read_pickle(orders_products_combined_path)\n",
    "\n",
    "# Task 2: Check the shape of the imported dataframe\n",
    "print(\"\\nTask 2: Shape of the imported dataframe (orders_products_combined):\", orders_products_combined.shape)\n",
    "\n",
    "# Task 3: Import cleaned products data set\n",
    "cleaned_products = pd.read_csv(cleaned_products_path)\n",
    "\n",
    "# Task 4: Determine a suitable way to combine the dataframes\n",
    "# Merge orders_products_combined dataframe with cleaned_products dataframe\n",
    "ords_prods_merge = orders_products_combined.merge(cleaned_products, on='product_id', how='left', indicator=True)\n",
    "\n",
    "# Task 5: Confirm the results of the merge using the merge flag\n",
    "merge_flag_counts = ords_prods_merge['_merge'].value_counts()\n",
    "print(\"\\nTask 5: Merge flag counts:\\n\", merge_flag_counts)\n",
    "\n",
    "# Task 6: Export the newly created dataframe as ords_prods_merge\n",
    "ords_prods_merge.to_csv(\"/Users/ging/Documents/Data Analytics Course/04_2024_Instacart Basket Analysis/02 Data/Prepared Data/ords_prods_merge.csv\", index=False)\n"
   ]
  },
  {
   "cell_type": "code",
   "execution_count": null,
   "id": "1d07fac3",
   "metadata": {},
   "outputs": [],
   "source": []
  }
 ],
 "metadata": {
  "kernelspec": {
   "display_name": "Python 3 (ipykernel)",
   "language": "python",
   "name": "python3"
  },
  "language_info": {
   "codemirror_mode": {
    "name": "ipython",
    "version": 3
   },
   "file_extension": ".py",
   "mimetype": "text/x-python",
   "name": "python",
   "nbconvert_exporter": "python",
   "pygments_lexer": "ipython3",
   "version": "3.11.7"
  }
 },
 "nbformat": 4,
 "nbformat_minor": 5
}
