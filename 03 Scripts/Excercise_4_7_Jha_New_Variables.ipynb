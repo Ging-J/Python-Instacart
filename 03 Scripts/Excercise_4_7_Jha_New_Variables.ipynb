{
 "cells": [
  {
   "cell_type": "markdown",
   "id": "eefdfe41",
   "metadata": {},
   "source": [
    "## Deriving New Variables"
   ]
  },
  {
   "cell_type": "code",
   "execution_count": 20,
   "id": "51c342ed",
   "metadata": {},
   "outputs": [],
   "source": [
    "# Task: Import necessary libraries\n",
    "import pandas as pd\n",
    "\n",
    "# Task: Import ords_prods_merge.csv from the \"Prepared Data\" folder\n",
    "ords_prods_merge_path = \"/Users/ging/Documents/Data Analytics Course/04_2024_Instacart Basket Analysis/02 Data/Prepared Data/ords_prods_merge.csv\"\n",
    "ords_prods_merge = pd.read_csv(ords_prods_merge_path)"
   ]
  },
  {
   "cell_type": "code",
   "execution_count": 21,
   "id": "a8ea6b9a",
   "metadata": {},
   "outputs": [
    {
     "name": "stdout",
     "output_type": "stream",
     "text": [
      "\n",
      "Task: Work with a subset of the dataframe - the first one million rows\n"
     ]
    }
   ],
   "source": [
    "# Task: Work with a subset of the dataframe - the first one million rows\n",
    "print(\"\\nTask: Work with a subset of the dataframe - the first one million rows\")\n",
    "df = ords_prods_merge[:1000000]\n"
   ]
  },
  {
   "cell_type": "code",
   "execution_count": 24,
   "id": "cb45f040",
   "metadata": {},
   "outputs": [
    {
     "name": "stdout",
     "output_type": "stream",
     "text": [
      "price_range\n",
      "Mid-range product     674474\n",
      "Low-range product     312624\n",
      "High-range product     12902\n",
      "Name: count, dtype: int64\n"
     ]
    }
   ],
   "source": [
    "import pandas as pd\n",
    "\n",
    "# Define the price_label function\n",
    "def price_label(row):\n",
    "    if row['prices'] <= 5:\n",
    "        return 'Low-range product'\n",
    "    elif (row['prices'] > 5) and (row['prices'] <= 15):\n",
    "        return 'Mid-range product'\n",
    "    elif row['prices'] > 15:\n",
    "        return 'High-range product'\n",
    "    else:\n",
    "        return 'Not enough data'\n",
    "\n",
    "# Read the dataframe (assuming you have already loaded it)\n",
    "# df = ...\n",
    "\n",
    "# Apply the price_label function to create a new column 'price_range' using .loc to avoid SettingWithCopyWarning\n",
    "df.loc[:, 'price_range'] = df.apply(price_label, axis=1)\n",
    "\n",
    "# Print the value counts of the new column\n",
    "print(df['price_range'].value_counts())\n"
   ]
  },
  {
   "cell_type": "code",
   "execution_count": 26,
   "id": "b5dec330",
   "metadata": {},
   "outputs": [
    {
     "name": "stdout",
     "output_type": "stream",
     "text": [
      "order_dow\n",
      "0    190938\n",
      "1    174445\n",
      "6    139984\n",
      "2    131601\n",
      "5    129053\n",
      "3    118708\n",
      "4    115271\n",
      "Name: count, dtype: int64\n"
     ]
    }
   ],
   "source": [
    "## Printing frequency of orders day of the week\n",
    "print(df['order_dow'].value_counts())\n"
   ]
  },
  {
   "cell_type": "code",
   "execution_count": 29,
   "id": "38b660fc",
   "metadata": {},
   "outputs": [
    {
     "name": "stdout",
     "output_type": "stream",
     "text": [
      "busiest_day\n",
      "Regularly busy    22437387\n",
      "Busiest day        6209632\n",
      "Least busy         3787193\n",
      "Name: count, dtype: int64\n"
     ]
    }
   ],
   "source": [
    "# Increase IOPub data rate limit\n",
    "%config InlineBackend.figure_format = 'retina'\n",
    "%config InlineBackend.print_figure_kwargs = {'facecolor': 'white'}\n",
    "%config InlineBackend.rc = {'figure.dpi': 300, 'savefig.dpi': 300}\n",
    "\n",
    "# Initialize empty list\n",
    "result = []\n",
    "\n",
    "# Loop through every value in \"order_dow\" column\n",
    "for value in ords_prods_merge[\"order_dow\"]:\n",
    "    if value == 0:\n",
    "        result.append(\"Busiest day\")\n",
    "    elif value == 4:\n",
    "        result.append(\"Least busy\")\n",
    "    else:\n",
    "        result.append(\"Regularly busy\")\n",
    "\n",
    "# Add \"busiest_day\" column to the dataframe\n",
    "ords_prods_merge.loc[:, \"busiest_day\"] = result\n",
    "\n",
    "# Print frequency of new column\n",
    "print(ords_prods_merge[\"busiest_day\"].value_counts())\n"
   ]
  },
  {
   "cell_type": "code",
   "execution_count": 30,
   "id": "704952f4",
   "metadata": {},
   "outputs": [
    {
     "name": "stdout",
     "output_type": "stream",
     "text": [
      "Frequency of busiest_day column:\n",
      "busiest_day\n",
      "Regularly busy    22437387\n",
      "Busiest day        6209632\n",
      "Least busy         3787193\n",
      "Name: count, dtype: int64\n",
      "\n",
      "Frequency of order_dow column:\n",
      "order_dow\n",
      "0    6209632\n",
      "1    5665830\n",
      "6    4500246\n",
      "2    4217766\n",
      "5    4209449\n",
      "3    3844096\n",
      "4    3787193\n",
      "Name: count, dtype: int64\n"
     ]
    }
   ],
   "source": [
    "# Print frequency of new column \"busiest_day\"\n",
    "print(\"Frequency of busiest_day column:\")\n",
    "print(ords_prods_merge[\"busiest_day\"].value_counts())\n",
    "\n",
    "# Print frequency of \"order_dow\" column for cross-checking\n",
    "print(\"\\nFrequency of order_dow column:\")\n",
    "print(ords_prods_merge[\"order_dow\"].value_counts())\n"
   ]
  },
  {
   "cell_type": "code",
   "execution_count": 31,
   "id": "52fa674e",
   "metadata": {},
   "outputs": [
    {
     "name": "stdout",
     "output_type": "stream",
     "text": [
      "Frequency of updated_busiest_day column:\n",
      "updated_busiest_day\n",
      "Regular days    12927461\n",
      "Busiest days    11875462\n",
      "Slowest days     7631289\n",
      "Name: count, dtype: int64\n"
     ]
    }
   ],
   "source": [
    "# Calculate frequency of each day\n",
    "day_frequency = ords_prods_merge['order_dow'].value_counts()\n",
    "\n",
    "# Find the two busiest days and two slowest days\n",
    "busiest_days = day_frequency.nlargest(2).index.tolist()\n",
    "slowest_days = day_frequency.nsmallest(2).index.tolist()\n",
    "\n",
    "# Create a new column with updated labels\n",
    "ords_prods_merge['updated_busiest_day'] = ords_prods_merge['order_dow'].apply(\n",
    "    lambda x: 'Busiest days' if x in busiest_days else ('Slowest days' if x in slowest_days else 'Regular days')\n",
    ")\n",
    "\n",
    "# Print frequency of the new column\n",
    "print(\"Frequency of updated_busiest_day column:\")\n",
    "print(ords_prods_merge['updated_busiest_day'].value_counts())\n"
   ]
  },
  {
   "cell_type": "code",
   "execution_count": 33,
   "id": "e1039760",
   "metadata": {},
   "outputs": [
    {
     "name": "stdout",
     "output_type": "stream",
     "text": [
      "Frequency of updated_busiest_day column:\n",
      "updated_busiest_day\n",
      "Regular days    12927461\n",
      "Busiest days    11875462\n",
      "Slowest days     7631289\n",
      "Name: count, dtype: int64\n",
      "\n",
      "Frequency of order_dow column:\n",
      "order_dow\n",
      "0    6209632\n",
      "1    5665830\n",
      "6    4500246\n",
      "2    4217766\n",
      "5    4209449\n",
      "3    3844096\n",
      "4    3787193\n",
      "Name: count, dtype: int64\n"
     ]
    }
   ],
   "source": [
    "# Print frequency of updated_busiest_day column\n",
    "print(\"Frequency of updated_busiest_day column:\")\n",
    "print(ords_prods_merge['updated_busiest_day'].value_counts())\n",
    "\n",
    "# Print frequency of order_dow column\n",
    "print(\"\\nFrequency of order_dow column:\")\n",
    "print(ords_prods_merge['order_dow'].value_counts())\n"
   ]
  },
  {
   "cell_type": "markdown",
   "id": "2a5167be",
   "metadata": {},
   "source": [
    "## \n",
    "\n",
    "Results\n",
    "1) The updated_busiest_day column has three categories: Regular days, Busiest days, and Slowest days.\n",
    "2) In the order_dow column, the highest count is for day 0 (Saturday), followed by day 1 (Sunday), which aligns with our expectations for the busiest days.\n",
    "3) The lowest counts are for days 4 (Wednesday) and 3 (Thursday), confirming our expectation for the slowest days.\n",
    "\n",
    "Observations:\n",
    "1) The frequency counts for the busiest and slowest days in the updated_busiest_day column align with the frequency counts for the corresponding days in the order_dow column.\n",
    "2) This indicates that the labels in the updated_busiest_day column accurately represent the two busiest and two slowest days of the week, as per the order_dow column.\n",
    "3) The labels \"Regular days\" likely correspond to the remaining weekdays, which don't fall into either the busiest or slowest categories."
   ]
  },
  {
   "cell_type": "code",
   "execution_count": 35,
   "id": "574a06c6",
   "metadata": {},
   "outputs": [
    {
     "name": "stdout",
     "output_type": "stream",
     "text": [
      "busiest_period_of_day\n",
      "Fewest orders    32434212\n",
      "Name: count, dtype: int64\n"
     ]
    }
   ],
   "source": [
    "# Define a function to categorize hours into busiest, average, and fewest orders\n",
    "def categorize_hour(hour_count):\n",
    "    if hour_count > busiest_threshold:\n",
    "        return \"Most orders\"\n",
    "    elif hour_count < fewest_threshold:\n",
    "        return \"Fewest orders\"\n",
    "    else:\n",
    "        return \"Average orders\"\n",
    "\n",
    "# Calculate the threshold values for busiest and fewest orders\n",
    "hourly_order_counts = ords_prods_merge.groupby('order_hour_of_day').size()\n",
    "busiest_threshold = hourly_order_counts.max() * 0.7  # 70% of the maximum order count\n",
    "fewest_threshold = hourly_order_counts.min() * 1.3    # 130% of the minimum order count\n",
    "\n",
    "# Apply the categorization function to create the new column\n",
    "ords_prods_merge['busiest_period_of_day'] = ords_prods_merge['order_hour_of_day'].apply(categorize_hour)\n",
    "\n",
    "# Print the frequency for the new column\n",
    "print(ords_prods_merge['busiest_period_of_day'].value_counts())\n"
   ]
  },
  {
   "cell_type": "code",
   "execution_count": 36,
   "id": "bc4ec16d",
   "metadata": {},
   "outputs": [],
   "source": [
    "import pandas as pd\n",
    "\n",
    "# Define the file path for the pickle file\n",
    "file_path = \"/Users/ging/Documents/Data Analytics Course/04_2024_Instacart Basket Analysis/02 Data/Prepared Data/Excercise_4_7_Jha_New_Variables.pkl\"\n",
    "\n",
    "# Export the dataframe as a pickle file\n",
    "ords_prods_merge.to_pickle(file_path)\n"
   ]
  },
  {
   "cell_type": "code",
   "execution_count": null,
   "id": "7ae09103",
   "metadata": {},
   "outputs": [],
   "source": []
  }
 ],
 "metadata": {
  "kernelspec": {
   "display_name": "Python 3 (ipykernel)",
   "language": "python",
   "name": "python3"
  },
  "language_info": {
   "codemirror_mode": {
    "name": "ipython",
    "version": 3
   },
   "file_extension": ".py",
   "mimetype": "text/x-python",
   "name": "python",
   "nbconvert_exporter": "python",
   "pygments_lexer": "ipython3",
   "version": "3.11.7"
  }
 },
 "nbformat": 4,
 "nbformat_minor": 5
}
