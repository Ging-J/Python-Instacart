{
 "cells": [
  {
   "cell_type": "markdown",
   "id": "57c39f72",
   "metadata": {},
   "source": [
    "## Excercise 4.4. Data Wrangling"
   ]
  },
  {
   "cell_type": "markdown",
   "id": "bb4b889f",
   "metadata": {},
   "source": [
    "## Data wrangling procedure"
   ]
  },
  {
   "cell_type": "code",
   "execution_count": 2,
   "id": "d3d7964e",
   "metadata": {},
   "outputs": [
    {
     "ename": "NameError",
     "evalue": "name 'df_prods' is not defined",
     "output_type": "error",
     "traceback": [
      "\u001b[0;31m---------------------------------------------------------------------------\u001b[0m",
      "\u001b[0;31mNameError\u001b[0m                                 Traceback (most recent call last)",
      "Cell \u001b[0;32mIn[2], line 14\u001b[0m\n\u001b[1;32m     11\u001b[0m \u001b[38;5;66;03m# 4. Rename Column\u001b[39;00m\n\u001b[1;32m     12\u001b[0m df_ords\u001b[38;5;241m.\u001b[39mrename(columns\u001b[38;5;241m=\u001b[39m{\u001b[38;5;124m'\u001b[39m\u001b[38;5;124morder_dow\u001b[39m\u001b[38;5;124m'\u001b[39m: \u001b[38;5;124m'\u001b[39m\u001b[38;5;124morders_day_of_week\u001b[39m\u001b[38;5;124m'\u001b[39m}, inplace\u001b[38;5;241m=\u001b[39m\u001b[38;5;28;01mTrue\u001b[39;00m)\n\u001b[0;32m---> 14\u001b[0m num_observations \u001b[38;5;241m=\u001b[39m df_prods\u001b[38;5;241m.\u001b[39mshape[\u001b[38;5;241m0\u001b[39m]\n\u001b[1;32m     15\u001b[0m \u001b[38;5;28mprint\u001b[39m(\u001b[38;5;124m\"\u001b[39m\u001b[38;5;124mNumber of observations in df_ords:\u001b[39m\u001b[38;5;124m\"\u001b[39m, num_observations)\n",
      "\u001b[0;31mNameError\u001b[0m: name 'df_prods' is not defined"
     ]
    }
   ],
   "source": [
    "# 1. Load the Data\n",
    "import pandas as pd\n",
    "df_ords = pd.read_csv(\"/Users/ging/Documents/Data Analytics Course/04_2024_Instacart Basket Analysis/02 Data/Original Data/4.3_orders_products/orders.csv\")\n",
    "\n",
    "# 2. Drop Unnecessary Column\n",
    "df_ords.drop(columns=['eval_set'], inplace=True)\n",
    "\n",
    "# 3. Change Data Type\n",
    "df_ords['order_id'] = df_ords['order_id'].astype(str)\n",
    "\n",
    "# 4. Rename Column\n",
    "df_ords.rename(columns={'order_dow': 'orders_day_of_week'}, inplace=True)\n",
    "\n",
    "num_observations = df_prods.shape[0]\n",
    "print(\"Number of observations in df_ords:\", num_observations)"
   ]
  },
  {
   "cell_type": "markdown",
   "id": "3ada5237",
   "metadata": {},
   "source": [
    "## Additional info"
   ]
  },
  {
   "cell_type": "code",
   "execution_count": 37,
   "id": "2e9857e5",
   "metadata": {
    "scrolled": true
   },
   "outputs": [
    {
     "name": "stdout",
     "output_type": "stream",
     "text": [
      "The busiest hour for placing orders is: 10\n",
      "The total number of rows in the dinner party subset is: 0\n",
      "User 1 has placed 11 orders.\n"
     ]
    }
   ],
   "source": [
    "# Importing necessary libraries\n",
    "import pandas as pd\n",
    "\n",
    "# Read the orders data into df_ords dataframe\n",
    "df_ords = pd.read_csv(\"/Users/ging/Documents/Data Analytics Course/04_2024_Instacart Basket Analysis/02 Data/Prepared Data/orders_wrangled.csv\")\n",
    "\n",
    "# 1. Find the busiest hour for placing orders\n",
    "busiest_hour = df_ords['order_hour_of_day'].mode()[0]\n",
    "print(f\"The busiest hour for placing orders is: {busiest_hour}\")\n",
    "\n",
    "# Read the departments data into df_dep_t_new dataframe\n",
    "departments_file_path = \"/Users/ging/Documents/Data Analytics Course/04_2024_Instacart Basket Analysis/02 Data/Original Data/4.3_orders_products/departments.csv\"\n",
    "df_dep_t_new = pd.read_csv(departments_file_path)\n",
    "\n",
    "# 3. Create a subset for breakfast items\n",
    "df_breakfast = df_prods[df_prods['department_id'] == 'breakfast']\n",
    "\n",
    "# 4. Create a subset for dinner party items\n",
    "df_dinner_party = df_prods[df_prods['department_id'].isin(['alcohol', 'deli', 'beverages', 'meat/seafood'])]\n",
    "\n",
    "# 5. Total counts in the last dataframe (df_dinner_party)\n",
    "total_rows_dinner_party = df_dinner_party.shape[0]\n",
    "print(f\"The total number of rows in the dinner party subset is: {total_rows_dinner_party}\")\n",
    "\n",
    "# 6. Extract information about user ID 1\n",
    "user_1_info = df_ords[df_ords['user_id'] == 1]\n",
    "\n",
    "# 7. Basic stats for user ID 1\n",
    "user_1_order_count = user_1_info.shape[0]\n",
    "print(f\"User 1 has placed {user_1_order_count} orders.\")\n",
    "\n",
    "# Export df_ords and df_dep_t_new dataframes\n",
    "df_ords.to_csv(\"/Users/ging/Documents/Data Analytics Course/04_2024_Instacart Basket Analysis/02 Data/Prepared Data/orders_wrangled.csv\", index=False)\n",
    "df_dep_t_new.to_csv(\"/Users/ging/Documents/Data Analytics Course/04_2024_Instacart Basket Analysis/02 Data/Prepared Data/departments_wrangled.csv\", index=False)\n"
   ]
  },
  {
   "cell_type": "markdown",
   "id": "54bd57e7",
   "metadata": {},
   "source": [
    "## Meaning of department id 4"
   ]
  },
  {
   "cell_type": "code",
   "execution_count": 35,
   "id": "181cb73d",
   "metadata": {},
   "outputs": [
    {
     "name": "stdout",
     "output_type": "stream",
     "text": [
      "Department ID 4 refers to: produce\n"
     ]
    }
   ],
   "source": [
    "import pandas as pd\n",
    "\n",
    "# Load departments data\n",
    "departments_file_path = \"/Users/ging/Documents/Data Analytics Course/04_2024_Instacart Basket Analysis/02 Data/Original Data/4.3_orders_products/departments.csv\"\n",
    "df_dep_t_new = pd.read_csv(departments_file_path)\n",
    "\n",
    "# Check if 'department' column exists in the DataFrame\n",
    "if 'department' not in df_dep_t_new.columns:\n",
    "    # Create 'department' column\n",
    "    department_mapping = {\n",
    "        1: 'frozen', 2: 'other', 3: 'bakery', 4: 'produce', 5: 'alcohol',\n",
    "        6: 'international', 7: 'beverages', 8: 'pets', 9: 'dry goods pasta',\n",
    "        10: 'bulk', 11: 'personal care', 12: 'meat seafood', 13: 'pantry',\n",
    "        14: 'breakfast', 15: 'canned goods', 16: 'dairy eggs', 17: 'household',\n",
    "        18: 'babies', 19: 'snacks', 20: 'deli', 21: 'missing'\n",
    "    }\n",
    "    df_dep_t_new['department'] = df_dep_t_new['department_id'].map(department_mapping)\n",
    "\n",
    "# 3 Print department info for department_id equal to 4\n",
    "department_4_name = department_mapping.get(4)\n",
    "if department_4_name is not None:\n",
    "    print(\"Department ID 4 refers to:\", department_4_name)\n",
    "else:\n",
    "    print(\"Department ID 4 not found in the data dictionary.\")\n"
   ]
  },
  {
   "cell_type": "code",
   "execution_count": null,
   "id": "92613bd5",
   "metadata": {},
   "outputs": [],
   "source": []
  }
 ],
 "metadata": {
  "kernelspec": {
   "display_name": "Python 3 (ipykernel)",
   "language": "python",
   "name": "python3"
  },
  "language_info": {
   "codemirror_mode": {
    "name": "ipython",
    "version": 3
   },
   "file_extension": ".py",
   "mimetype": "text/x-python",
   "name": "python",
   "nbconvert_exporter": "python",
   "pygments_lexer": "ipython3",
   "version": "3.11.7"
  }
 },
 "nbformat": 4,
 "nbformat_minor": 5
}
