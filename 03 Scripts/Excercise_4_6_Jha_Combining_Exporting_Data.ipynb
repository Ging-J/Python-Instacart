{
 "cells": [
  {
   "cell_type": "markdown",
   "id": "ea474766",
   "metadata": {},
   "source": [
    "## Combining and Exporting Data"
   ]
  },
  {
   "cell_type": "code",
   "execution_count": 2,
   "id": "899270e3",
   "metadata": {},
   "outputs": [
    {
     "name": "stdout",
     "output_type": "stream",
     "text": [
      "\n",
      "Task 5: Display head of df_ords_prior dataframe\n",
      "   order_id  product_id  add_to_cart_order  reordered\n",
      "0         2       33120                  1          1\n",
      "1         2       28985                  2          1\n",
      "2         2        9327                  3          0\n",
      "3         2       45918                  4          1\n",
      "4         2       30035                  5          0\n",
      "\n",
      "Task 6: Display head of df_orders dataframe\n",
      "   order_id  user_id eval_set  order_number  order_dow  order_hour_of_day  \\\n",
      "0   2539329        1    prior             1          2                  8   \n",
      "1   2398795        1    prior             2          3                  7   \n",
      "2    473747        1    prior             3          3                 12   \n",
      "3   2254736        1    prior             4          4                  7   \n",
      "4    431534        1    prior             5          4                 15   \n",
      "\n",
      "   days_since_prior_order  \n",
      "0                     NaN  \n",
      "1                    15.0  \n",
      "2                    21.0  \n",
      "3                    29.0  \n",
      "4                    28.0  \n"
     ]
    }
   ],
   "source": [
    "# Task 1: Import necessary libraries\n",
    "import pandas as pd\n",
    "\n",
    "# Task 2: Define file paths\n",
    "orders_products_prior_csv_path = \"/Users/ging/Documents/Data Analytics Course/04_2024_Instacart Basket Analysis/02 Data/Original Data/4.3_orders_products/orders_products_prior.csv\"\n",
    "cleaned_orders_csv_path = \"/Users/ging/Documents/Data Analytics Course/04_2024_Instacart Basket Analysis/02 Data/Prepared Data/cleaned_orders.csv\"\n",
    "\n",
    "# Task 3: Import orders_products_prior.csv as df_ords_prior\n",
    "df_ords_prior = pd.read_csv(orders_products_prior_csv_path)\n",
    "\n",
    "# Task 4: Import cleaned_orders.csv as df_orders\n",
    "df_orders = pd.read_csv(cleaned_orders_csv_path)\n",
    "\n",
    "# Task 5: Display head of df_ords_prior dataframe\n",
    "print(\"\\nTask 5: Display head of df_ords_prior dataframe\")\n",
    "print(df_ords_prior.head())\n",
    "\n",
    "# Task 6: Display head of df_orders dataframe\n",
    "print(\"\\nTask 6: Display head of df_orders dataframe\")\n",
    "print(df_orders.head())\n"
   ]
  },
  {
   "cell_type": "code",
   "execution_count": 3,
   "id": "29ea5a39",
   "metadata": {},
   "outputs": [
    {
     "name": "stdout",
     "output_type": "stream",
     "text": [
      "\n",
      "Task 7: Run shape function on df_ords_prior dataframe\n",
      "Shape of df_ords_prior dataframe: (32434489, 4)\n",
      "\n",
      "Task 8: Run shape function on df_orders dataframe\n",
      "Shape of df_orders dataframe: (3421083, 7)\n"
     ]
    }
   ],
   "source": [
    "# Task 7: Run shape function on df_ords_prior dataframe\n",
    "print(\"\\nTask 7: Run shape function on df_ords_prior dataframe\")\n",
    "print(\"Shape of df_ords_prior dataframe:\", df_ords_prior.shape)\n",
    "\n",
    "# Task 8: Run shape function on df_orders dataframe\n",
    "print(\"\\nTask 8: Run shape function on df_orders dataframe\")\n",
    "print(\"Shape of df_orders dataframe:\", df_orders.shape)\n"
   ]
  },
  {
   "cell_type": "code",
   "execution_count": 7,
   "id": "4a8eae04",
   "metadata": {},
   "outputs": [
    {
     "name": "stdout",
     "output_type": "stream",
     "text": [
      "\n",
      "Task 9: Merge df_ords with df_ords_prior\n",
      "\n",
      "Task 10: Using the head function on the df_merged_large dataframe\n",
      "   order_id  user_id eval_set  order_number  order_dow  order_hour_of_day  \\\n",
      "0   2539329        1    prior             1          2                  8   \n",
      "1   2539329        1    prior             1          2                  8   \n",
      "2   2539329        1    prior             1          2                  8   \n",
      "3   2539329        1    prior             1          2                  8   \n",
      "4   2539329        1    prior             1          2                  8   \n",
      "\n",
      "   days_since_prior_order  product_id  add_to_cart_order  reordered _merge  \n",
      "0                     NaN         196                  1          0   both  \n",
      "1                     NaN       14084                  2          0   both  \n",
      "2                     NaN       12427                  3          0   both  \n",
      "3                     NaN       26088                  4          0   both  \n",
      "4                     NaN       26405                  5          0   both  \n",
      "\n",
      "Task 11: Check merge flag frequency\n",
      "_merge\n",
      "both          32434489\n",
      "left_only            0\n",
      "right_only           0\n",
      "Name: count, dtype: int64\n"
     ]
    }
   ],
   "source": [
    "import pandas as pd\n",
    "\n",
    "# Define df_ords dataframe\n",
    "df_ords = pd.read_csv(\"/Users/ging/Documents/Data Analytics Course/04_2024_Instacart Basket Analysis/02 Data/Prepared Data/cleaned_orders.csv\")\n",
    "\n",
    "# Define the dataframe df_ords_prior by importing orders_products_prior.csv\n",
    "orders_products_prior_path = \"/Users/ging/Documents/Data Analytics Course/04_2024_Instacart Basket Analysis/02 Data/Original Data/4.3_orders_products/orders_products_prior.csv\"\n",
    "df_ords_prior = pd.read_csv(orders_products_prior_path)\n",
    "\n",
    "# Task 9: Merge df_ords with df_ords_prior\n",
    "print(\"\\nTask 9: Merge df_ords with df_ords_prior\")\n",
    "df_merged_large = df_ords.merge(df_ords_prior, on='order_id', indicator=True)\n",
    "\n",
    "# Task 10: Print head of df_merged_large dataframe\n",
    "print(\"\\nTask 10: Using the head function on the df_merged_large dataframe\")\n",
    "print(df_merged_large.head())\n",
    "\n",
    "# Task 11: Check merge flag frequency\n",
    "print(\"\\nTask 11: Check merge flag frequency\")\n",
    "print(df_merged_large['_merge'].value_counts())\n"
   ]
  },
  {
   "cell_type": "code",
   "execution_count": 8,
   "id": "4275ed07",
   "metadata": {},
   "outputs": [],
   "source": [
    "# Export df_ords_prior dataframe in pickle format\n",
    "df_ords_prior.to_pickle(\"/Users/ging/Documents/Data Analytics Course/04_2024_Instacart Basket Analysis/02 Data/Prepared Data/orders_products_combined.pkl\")\n"
   ]
  },
  {
   "cell_type": "code",
   "execution_count": null,
   "id": "d9bbdafa",
   "metadata": {},
   "outputs": [],
   "source": []
  }
 ],
 "metadata": {
  "kernelspec": {
   "display_name": "Python 3 (ipykernel)",
   "language": "python",
   "name": "python3"
  },
  "language_info": {
   "codemirror_mode": {
    "name": "ipython",
    "version": 3
   },
   "file_extension": ".py",
   "mimetype": "text/x-python",
   "name": "python",
   "nbconvert_exporter": "python",
   "pygments_lexer": "ipython3",
   "version": "3.11.7"
  }
 },
 "nbformat": 4,
 "nbformat_minor": 5
}
