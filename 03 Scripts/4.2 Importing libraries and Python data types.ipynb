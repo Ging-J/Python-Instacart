{
 "cells": [
  {
   "cell_type": "markdown",
   "id": "152e502e-3dd6-49dc-8348-47ec4711bd57",
   "metadata": {},
   "source": [
    "#01. Importing libraries"
   ]
  },
  {
   "cell_type": "code",
   "execution_count": 1,
   "id": "2834c770-8f39-43e6-966b-dcb27a387708",
   "metadata": {},
   "outputs": [],
   "source": [
    "  # Importing Libraries\n",
    "import pandas as pd\n",
    "import numpy as np\n",
    "import os"
   ]
  },
  {
   "cell_type": "markdown",
   "id": "1c443c4a-f264-4a43-a2b2-cd1a1ac90284",
   "metadata": {},
   "source": [
    "#02. Working with different data types in Python"
   ]
  },
  {
   "cell_type": "code",
   "execution_count": 2,
   "id": "829c5bd0-a401-4da5-990c-81e8df5d32a7",
   "metadata": {},
   "outputs": [
    {
     "name": "stdout",
     "output_type": "stream",
     "text": [
      "100\n"
     ]
    }
   ],
   "source": [
    "# Method 1: Addition and Subtraction\n",
    "result = 50 + 60 - 10\n",
    "print(result) "
   ]
  },
  {
   "cell_type": "code",
   "execution_count": 4,
   "id": "84cb7e24-1846-4016-a29c-8d6baee919a3",
   "metadata": {},
   "outputs": [
    {
     "name": "stdout",
     "output_type": "stream",
     "text": [
      "100.0\n"
     ]
    }
   ],
   "source": [
    "# Method 2: Multiplication and Division\n",
    "result = (10 * 5) + (50 / 1)\n",
    "print(result)"
   ]
  },
  {
   "cell_type": "code",
   "execution_count": 5,
   "id": "ab358e56-9a55-4274-bf4c-dfe9ac855d56",
   "metadata": {},
   "outputs": [
    {
     "name": "stdout",
     "output_type": "stream",
     "text": [
      "100\n"
     ]
    }
   ],
   "source": [
    "# Method 3: Only Addition\n",
    "result = 10\n",
    "result += 90\n",
    "print(result)"
   ]
  },
  {
   "cell_type": "code",
   "execution_count": 6,
   "id": "7f7f86ad-f11a-4116-8b04-00c9858e1a0c",
   "metadata": {},
   "outputs": [
    {
     "name": "stdout",
     "output_type": "stream",
     "text": [
      "4.903846153846153\n"
     ]
    }
   ],
   "source": [
    "# Define floating-point variables\n",
    "num1 = 25.5\n",
    "num2 = 5.2\n",
    "\n",
    "# Divide num1 by num2\n",
    "result = num1 / num2\n",
    "\n",
    "# Print the result\n",
    "print(result)"
   ]
  },
  {
   "cell_type": "code",
   "execution_count": 8,
   "id": "f375fb0b-50b4-49ba-8f61-b6ea53171816",
   "metadata": {},
   "outputs": [
    {
     "name": "stdout",
     "output_type": "stream",
     "text": [
      "Data Analysis\n"
     ]
    }
   ],
   "source": [
    "# Concatenate separate strings to form a word\n",
    "word = \"Data\" + \" Analysis\"\n",
    "\n",
    "# Print the constructed word\n",
    "print(word)"
   ]
  },
  {
   "cell_type": "code",
   "execution_count": 9,
   "id": "f851d061-b044-47b9-ba44-d73021b8c9a6",
   "metadata": {},
   "outputs": [
    {
     "name": "stdout",
     "output_type": "stream",
     "text": [
      "Python is a useful tool for data analysis.\n",
      "I am curious to learn more about real world applications.\n"
     ]
    }
   ],
   "source": [
    "# Constructing sentences from separate strings\n",
    "sentence1 = \"Python is a \" + \"useful tool \" + \"for data analysis.\"\n",
    "sentence2 = \"I am \" + \"curious to learn \" + \"more about \" + \"real world applications.\"\n",
    "\n",
    "# Printing the constructed sentences\n",
    "print(sentence1)\n",
    "print(sentence2)"
   ]
  },
  {
   "cell_type": "code",
   "execution_count": null,
   "id": "ee973e5f-160b-490e-8ae6-e5155ba134f7",
   "metadata": {},
   "outputs": [],
   "source": []
  }
 ],
 "metadata": {
  "kernelspec": {
   "display_name": "Python 3 (ipykernel)",
   "language": "python",
   "name": "python3"
  },
  "language_info": {
   "codemirror_mode": {
    "name": "ipython",
    "version": 3
   },
   "file_extension": ".py",
   "mimetype": "text/x-python",
   "name": "python",
   "nbconvert_exporter": "python",
   "pygments_lexer": "ipython3",
   "version": "3.11.7"
  }
 },
 "nbformat": 4,
 "nbformat_minor": 5
}
