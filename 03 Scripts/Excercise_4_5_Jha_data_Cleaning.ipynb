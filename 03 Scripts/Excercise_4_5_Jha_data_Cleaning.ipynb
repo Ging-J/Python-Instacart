{
 "cells": [
  {
   "cell_type": "markdown",
   "id": "014208d9",
   "metadata": {},
   "source": [
    "## Data cleaning"
   ]
  },
  {
   "cell_type": "code",
   "execution_count": null,
   "id": "a24ea3d5",
   "metadata": {},
   "outputs": [],
   "source": [
    "# Task 1: Import necessary libraries\n",
    "import pandas as pd\n",
    "\n",
    "# Task 2: Define file paths\n",
    "products_csv_path = \"/Users/ging/Documents/Data Analytics Course/04_2024_Instacart Basket Analysis/02 Data/Original Data/4.3_orders_products/products.csv\"\n",
    "departments_csv_path = \"/Users/ging/Documents/Data Analytics Course/04_2024_Instacart Basket Analysis/02 Data/Original Data/4.3_orders_products/departments.csv\"\n",
    "orders_csv_path = \"/Users/ging/Documents/Data Analytics Course/04_2024_Instacart Basket Analysis/02 Data/Original Data/4.3_orders_products/orders.csv\"\n",
    "\n",
    "# Task 3: Import products.csv\n",
    "df_prods = pd.read_csv(products_csv_path)\n",
    "\n",
    "# Task 4: Check for mixed-type data in df_prods\n",
    "print(\"\\nTask 4: Check for mixed-type data in df_prods dataframe\")\n",
    "for col in df_prods.columns.tolist():\n",
    "    weird = (df_prods[col].apply(type) != df_prods[col].iloc[0].__class__).any()\n",
    "    if weird:\n",
    "        print(\"Mixed-type data found in column:\", col)\n",
    "\n",
    "# Task 5: Import orders.csv\n",
    "df_ords = pd.read_csv(orders_csv_path)\n",
    "\n",
    "# Task 6: Display descriptive statistics for df_ords dataframe\n",
    "print(\"\\nTask 6: Display descriptive statistics for df_ords dataframe\")\n",
    "print(df_ords.describe())\n",
    "\n",
    "# Task 7: Check for mixed-type data in df_ords dataframe\n",
    "print(\"\\nTask 7: Check for mixed-type data in df_ords dataframe\")\n",
    "for col in df_ords.columns.tolist():\n",
    "    weird = (df_ords[col].apply(type) != df_ords[col].iloc[0].__class__).any()\n",
    "    if weird:\n",
    "        print(\"Mixed-type data found in column:\", col)\n",
    "\n",
    "# Task 8: Check for missing values in df_ords dataframe\n",
    "print(\"\\nTask 8: Check for missing values in df_ords dataframe\")\n",
    "missing_values = df_ords.isnull().sum()\n",
    "print(\"Number of missing values in df_ords dataframe:\\n\", missing_values)\n",
    "\n",
    "# Task 9: Address missing values in df_ords dataframe\n",
    "# Explanation: We will fill missing values with the mode for categorical columns and the mean for numerical columns.\n",
    "# Since there are no missing values in categorical columns, we only need to fill missing values in numerical columns.\n",
    "# We use the mean value to maintain the overall distribution of the data.\n",
    "df_ords.fillna(df_ords.mean(), inplace=True)\n",
    "\n",
    "# Task 10: Check for duplicate values in df_ords dataframe\n",
    "print(\"\\nTask 10: Check for duplicate values in df_ords dataframe\")\n",
    "duplicate_values = df_ords.duplicated().sum()\n",
    "print(\"Number of duplicate values in df_ords dataframe:\", duplicate_values)\n",
    "\n",
    "# Task 11: Address duplicates in df_ords dataframe\n",
    "# Explanation: We will drop duplicate rows from the dataframe to ensure data integrity and accuracy of analysis.\n",
    "df_ords.drop_duplicates(inplace=True)\n",
    "\n",
    "# Task 12: Export cleaned df_prods and df_ords data as \".csv\" files\n",
    "cleaned_products_csv_path = \"/Users/ging/Documents/Data Analytics Course/04_2024_Instacart Basket Analysis/02 Data/Prepared Data/products_cleaned.csv\"\n",
    "cleaned_orders_csv_path = \"/Users/ging/Documents/Data Analytics Course/04_2024_Instacart Basket Analysis/02 Data/Prepared Data/orders_cleaned.csv\"\n",
    "\n",
    "df_prods.to_csv(cleaned_products_csv_path, index=False)\n",
    "df_ords.to_csv(cleaned_orders_csv_path, index=False)\n"
   ]
  },
  {
   "cell_type": "code",
   "execution_count": null,
   "id": "c4ac15e5",
   "metadata": {},
   "outputs": [],
   "source": []
  },
  {
   "cell_type": "code",
   "execution_count": null,
   "id": "814617b7",
   "metadata": {},
   "outputs": [],
   "source": []
  },
  {
   "cell_type": "code",
   "execution_count": null,
   "id": "37c62f4d",
   "metadata": {},
   "outputs": [],
   "source": []
  }
 ],
 "metadata": {
  "kernelspec": {
   "display_name": "Python 3 (ipykernel)",
   "language": "python",
   "name": "python3"
  },
  "language_info": {
   "codemirror_mode": {
    "name": "ipython",
    "version": 3
   },
   "file_extension": ".py",
   "mimetype": "text/x-python",
   "name": "python",
   "nbconvert_exporter": "python",
   "pygments_lexer": "ipython3",
   "version": "3.11.7"
  }
 },
 "nbformat": 4,
 "nbformat_minor": 5
}
