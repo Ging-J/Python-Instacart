{
 "cells": [
  {
   "cell_type": "markdown",
   "id": "218cfc49",
   "metadata": {},
   "source": [
    "## 4.9. Data Visualizations"
   ]
  },
  {
   "cell_type": "code",
   "execution_count": 3,
   "id": "9b8c76de",
   "metadata": {},
   "outputs": [],
   "source": [
    "# Importing analysis libraries\n",
    "import pandas as pd\n",
    "import numpy as np\n",
    "\n",
    "# File path\n",
    "file_path = \"/Users/ging/Documents/Data Analytics Course/04_2024_Instacart Basket Analysis/02 Data/Original Data/4.3_orders_products/\"\n",
    "\n",
    "# Importing the customers dataset\n",
    "customers_df = pd.read_csv(file_path + \"customers.csv\")\n"
   ]
  },
  {
   "cell_type": "code",
   "execution_count": 4,
   "id": "45f5a1f0",
   "metadata": {},
   "outputs": [
    {
     "name": "stdout",
     "output_type": "stream",
     "text": [
      "user_id          int64\n",
      "First Name      object\n",
      "Surnam          object\n",
      "Gender          object\n",
      "STATE           object\n",
      "Age              int64\n",
      "date_joined     object\n",
      "n_dependants     int64\n",
      "fam_status      object\n",
      "income           int64\n",
      "dtype: object\n"
     ]
    }
   ],
   "source": [
    "# Printing all variable names and types\n",
    "print(customers_df.dtypes)\n"
   ]
  },
  {
   "cell_type": "code",
   "execution_count": 5,
   "id": "6f35b527",
   "metadata": {},
   "outputs": [],
   "source": [
    "# Data Wrangling - Renaming Columns and Dropping Unnecessary Columns\n",
    "\n",
    "# Rename columns\n",
    "customers_df.rename(columns={'Surnam': 'Surname', 'STATE': 'State'}, inplace=True)\n",
    "\n",
    "# Drop columns\n",
    "columns_to_drop = ['First Name']\n",
    "customers_df.drop(columns=columns_to_drop, inplace=True)\n"
   ]
  },
  {
   "cell_type": "code",
   "execution_count": 6,
   "id": "c719a96a",
   "metadata": {},
   "outputs": [
    {
     "name": "stdout",
     "output_type": "stream",
     "text": [
      "Missing Values:\n",
      " user_id         0\n",
      "Surname         0\n",
      "Gender          0\n",
      "State           0\n",
      "Age             0\n",
      "date_joined     0\n",
      "n_dependants    0\n",
      "fam_status      0\n",
      "income          0\n",
      "dtype: int64\n",
      "Duplicate Rows: 0\n"
     ]
    }
   ],
   "source": [
    "## Data cleaning\n",
    "\n",
    "# Check for missing values\n",
    "missing_values = customers_df.isnull().sum()\n",
    "print(\"Missing Values:\\n\", missing_values)\n",
    "\n",
    "# Drop rows with missing values\n",
    "customers_df.dropna(inplace=True)\n",
    "\n",
    "# Check for duplicates\n",
    "duplicates = customers_df.duplicated().sum()\n",
    "print(\"Duplicate Rows:\", duplicates)\n",
    "\n",
    "# Drop duplicate rows\n",
    "customers_df.drop_duplicates(inplace=True)\n",
    "\n",
    "# Convert mixed-type data\n",
    "customers_df['date_joined'] = pd.to_datetime(customers_df['date_joined'])\n"
   ]
  },
  {
   "cell_type": "code",
   "execution_count": 7,
   "id": "442d82a5",
   "metadata": {},
   "outputs": [],
   "source": [
    "## Combining customers.csv with previously prepared data about orders and customers\n",
    "\n",
    "# File paths\n",
    "ords_prods_merge_path = \"/Users/ging/Documents/Data Analytics Course/04_2024_Instacart Basket Analysis/02 Data/Prepared Data/4_8_ords_prods_merge.pkl\"\n",
    "customers_path = \"/Users/ging/Documents/Data Analytics Course/04_2024_Instacart Basket Analysis/02 Data/Original Data/4.3_orders_products/customers.csv\"\n",
    "combined_file_path = \"/Users/ging/Documents/Data Analytics Course/04_2024_Instacart Basket Analysis/02 Data/Prepared Data/4_9_ords_prods_customers.pkl\"\n",
    "\n",
    "# Load ords_prods_merge DataFrame\n",
    "ords_prods_merge = pd.read_pickle(ords_prods_merge_path)\n",
    "\n",
    "# Merge ords_prods_merge with customers_df on 'user_id' column\n",
    "ords_prods_customers = pd.merge(ords_prods_merge, customers_df, on='user_id')\n",
    "\n",
    "# Convert 'user_id' column in customers_df to int64 to match the data type in ords_prods_merge\n",
    "customers_df['user_id'] = customers_df['user_id'].astype('int64')\n",
    "\n",
    "# Store the combined DataFrame as a pickle file\n",
    "ords_prods_customers.to_pickle(combined_file_path)\n"
   ]
  },
  {
   "cell_type": "code",
   "execution_count": 8,
   "id": "fe33047a",
   "metadata": {
    "scrolled": true
   },
   "outputs": [
    {
     "name": "stdout",
     "output_type": "stream",
     "text": [
      "order_id                           int64\n",
      "product_id                         int64\n",
      "add_to_cart_order                  int64\n",
      "reordered                          int64\n",
      "user_id                            int64\n",
      "eval_set                          object\n",
      "order_number                       int64\n",
      "order_dow                          int64\n",
      "order_hour_of_day                  int64\n",
      "days_since_prior_order           float64\n",
      "product_name                      object\n",
      "aisle_id                           int64\n",
      "department_id                      int64\n",
      "prices                           float64\n",
      "busiest_day                       object\n",
      "updated_busiest_day               object\n",
      "busiest_period_of_day             object\n",
      "max_order                          int64\n",
      "loyalty_flag                      object\n",
      "spending_flag                     object\n",
      "order_frequency_flag              object\n",
      "Surname                           object\n",
      "Gender                            object\n",
      "State                             object\n",
      "Age                                int64\n",
      "date_joined               datetime64[ns]\n",
      "n_dependants                       int64\n",
      "fam_status                        object\n",
      "income                             int64\n",
      "dtype: object\n"
     ]
    }
   ],
   "source": [
    "## Printing the variable names and types in the new combined data file \n",
    "\n",
    "# Import pandas library\n",
    "import pandas as pd\n",
    "\n",
    "# File path for the combined data file\n",
    "combined_file_path = \"/Users/ging/Documents/Data Analytics Course/04_2024_Instacart Basket Analysis/02 Data/Prepared Data/4_9_ords_prods_customers.pkl\"\n",
    "\n",
    "# Load the combined data file into a DataFrame\n",
    "ords_prods_customers = pd.read_pickle(combined_file_path)\n",
    "\n",
    "# Print all variable names and types\n",
    "print(ords_prods_customers.dtypes)\n"
   ]
  },
  {
   "cell_type": "code",
   "execution_count": null,
   "id": "fb11e485",
   "metadata": {},
   "outputs": [],
   "source": []
  }
 ],
 "metadata": {
  "kernelspec": {
   "display_name": "Python 3 (ipykernel)",
   "language": "python",
   "name": "python3"
  },
  "language_info": {
   "codemirror_mode": {
    "name": "ipython",
    "version": 3
   },
   "file_extension": ".py",
   "mimetype": "text/x-python",
   "name": "python",
   "nbconvert_exporter": "python",
   "pygments_lexer": "ipython3",
   "version": "3.11.7"
  }
 },
 "nbformat": 4,
 "nbformat_minor": 5
}
